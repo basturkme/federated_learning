{
 "cells": [
  {
   "cell_type": "code",
   "execution_count": null,
   "id": "9f5d00c4-70d9-4451-a1ec-d4edeea1e5cc",
   "metadata": {},
   "outputs": [],
   "source": [
    "deneme123123"
   ]
  }
 ],
 "metadata": {
  "kernelspec": {
   "display_name": "Python 3 (ipykernel)",
   "language": "python",
   "name": "python3"
  },
  "language_info": {
   "codemirror_mode": {
    "name": "ipython",
    "version": 3
   },
   "file_extension": ".py",
   "mimetype": "text/x-python",
   "name": "python",
   "nbconvert_exporter": "python",
   "pygments_lexer": "ipython3",
   "version": "3.13.5"
  }
 },
 "nbformat": 4,
 "nbformat_minor": 5
}
